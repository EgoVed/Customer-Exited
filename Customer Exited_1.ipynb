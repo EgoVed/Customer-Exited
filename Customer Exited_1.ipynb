{
 "cells": [
  {
   "cell_type": "markdown",
   "metadata": {},
   "source": [
    "# Отток клиентов"
   ]
  },
  {
   "cell_type": "markdown",
   "metadata": {},
   "source": [
    "Из «Бета-Банка» стали уходить клиенты. Каждый месяц. Немного, но заметно. Банковские маркетологи посчитали: сохранять текущих клиентов дешевле, чем привлекать новых.\n",
    "\n",
    "Нужно спрогнозировать, уйдёт клиент из банка в ближайшее время или нет. Вам предоставлены исторические данные о поведении клиентов и расторжении договоров с банком. \n",
    "\n",
    "Постройте модель с предельно большим значением *F1*-меры. Чтобы сдать проект успешно, нужно довести метрику до 0.59. Проверьте *F1*-меру на тестовой выборке самостоятельно.\n",
    "\n",
    "Дополнительно измеряйте *AUC-ROC*, сравнивайте её значение с *F1*-мерой.\n",
    "\n",
    "Источник данных: [https://www.kaggle.com/barelydedicated/bank-customer-churn-modeling](https://www.kaggle.com/barelydedicated/bank-customer-churn-modeling)"
   ]
  },
  {
   "cell_type": "markdown",
   "metadata": {},
   "source": [
    "# План:"
   ]
  },
  {
   "cell_type": "markdown",
   "metadata": {},
   "source": [
    "- Загрузите и подготовьте данные. Поясните порядок действий.\n",
    "- Исследуйте баланс классов, обучите модель без учёта дисбаланса. Кратко опишите выводы.\n",
    "- Улучшите качество модели, учитывая дисбаланс классов. \n",
    "- Обучите разные модели и найдите лучшую. Кратко опишите выводы.\n",
    "- Проведите финальное тестирование."
   ]
  },
  {
   "cell_type": "markdown",
   "metadata": {},
   "source": [
    "# 1. Подготовка данных"
   ]
  },
  {
   "cell_type": "code",
   "execution_count": 47,
   "metadata": {},
   "outputs": [],
   "source": [
    "import pandas as pd\n",
    "import matplotlib.pyplot as plt\n",
    "import numpy as np\n",
    "from sklearn.tree import DecisionTreeClassifier\n",
    "from sklearn.ensemble import RandomForestClassifier\n",
    "from sklearn.linear_model import LogisticRegression\n",
    "from sklearn.model_selection import train_test_split\n",
    "from sklearn.preprocessing import OrdinalEncoder\n",
    "from sklearn.preprocessing import StandardScaler\n",
    "from sklearn.metrics import f1_score\n",
    "from sklearn.utils import shuffle\n",
    "from sklearn.metrics import roc_curve\n",
    "from sklearn.metrics import roc_auc_score"
   ]
  },
  {
   "cell_type": "code",
   "execution_count": 48,
   "metadata": {},
   "outputs": [],
   "source": [
    "df=pd.read_csv('Churn.csv')"
   ]
  },
  {
   "cell_type": "code",
   "execution_count": 49,
   "metadata": {},
   "outputs": [
    {
     "name": "stdout",
     "output_type": "stream",
     "text": [
      "<class 'pandas.core.frame.DataFrame'>\n",
      "RangeIndex: 10000 entries, 0 to 9999\n",
      "Data columns (total 14 columns):\n",
      "RowNumber          10000 non-null int64\n",
      "CustomerId         10000 non-null int64\n",
      "Surname            10000 non-null object\n",
      "CreditScore        10000 non-null int64\n",
      "Geography          10000 non-null object\n",
      "Gender             10000 non-null object\n",
      "Age                10000 non-null int64\n",
      "Tenure             9091 non-null float64\n",
      "Balance            10000 non-null float64\n",
      "NumOfProducts      10000 non-null int64\n",
      "HasCrCard          10000 non-null int64\n",
      "IsActiveMember     10000 non-null int64\n",
      "EstimatedSalary    10000 non-null float64\n",
      "Exited             10000 non-null int64\n",
      "dtypes: float64(3), int64(8), object(3)\n",
      "memory usage: 1.1+ MB\n"
     ]
    }
   ],
   "source": [
    "df.info()"
   ]
  },
  {
   "cell_type": "markdown",
   "metadata": {},
   "source": [
    "В данном датасете 13 признако, целевой признак, 10000 строк.\n",
    "### Признаки:\n",
    "- wNumber — индекс строки в данных (int64)\n",
    "- CustomerId — уникальный идентификатор клиента (int64)\n",
    "- Surname — фамилия (object)\n",
    "- CreditScore — кредитный рейтинг (int64)\n",
    "- Geography — страна проживания (object)\n",
    "- Gender — пол (object)\n",
    "- Age — возраст (int64)\n",
    "- Tenure — количество недвижимости у клиента (float64)\n",
    "- Balance — баланс на счёте (float64)\n",
    "- NumOfProducts — количество продуктов банка, используемых клиентом (int64)\n",
    "- HasCrCard — наличие кредитной карты (int64)\n",
    "- IsActiveMember — активность клиента (int64)\n",
    "- EstimatedSalary — предполагаемая зарплата (float64)\n",
    "### Целевой признак:\n",
    "- Exited — факт ухода клиента (int64)\n",
    "\n"
   ]
  },
  {
   "cell_type": "markdown",
   "metadata": {},
   "source": [
    "## Вывод:"
   ]
  },
  {
   "cell_type": "markdown",
   "metadata": {},
   "source": [
    "В данных присутствуют столбцы, которые не нужны. Их можно удалить. В анализе они не нужны. Также есть пропуски в значении недвижимости. Это означает, что у клиента нет ее. Значит можно просто заменить 0 и перевести в целочисленный тип.  "
   ]
  },
  {
   "cell_type": "code",
   "execution_count": 50,
   "metadata": {},
   "outputs": [],
   "source": [
    "# Удаляю лишние столбцы\n",
    "del_col=['RowNumber','EstimatedSalary','CustomerId','Surname']\n",
    "df=df.drop(del_col,axis=1)"
   ]
  },
  {
   "cell_type": "code",
   "execution_count": 51,
   "metadata": {},
   "outputs": [],
   "source": [
    "# Заполняю пропуски 0\n",
    "df['Tenure']=df['Tenure'].fillna(0).astype('int64')"
   ]
  },
  {
   "cell_type": "code",
   "execution_count": 52,
   "metadata": {},
   "outputs": [
    {
     "name": "stdout",
     "output_type": "stream",
     "text": [
      "<class 'pandas.core.frame.DataFrame'>\n",
      "RangeIndex: 10000 entries, 0 to 9999\n",
      "Data columns (total 10 columns):\n",
      "CreditScore       10000 non-null int64\n",
      "Geography         10000 non-null object\n",
      "Gender            10000 non-null object\n",
      "Age               10000 non-null int64\n",
      "Tenure            10000 non-null int64\n",
      "Balance           10000 non-null float64\n",
      "NumOfProducts     10000 non-null int64\n",
      "HasCrCard         10000 non-null int64\n",
      "IsActiveMember    10000 non-null int64\n",
      "Exited            10000 non-null int64\n",
      "dtypes: float64(1), int64(7), object(2)\n",
      "memory usage: 781.4+ KB\n"
     ]
    }
   ],
   "source": [
    "df.info()"
   ]
  },
  {
   "cell_type": "code",
   "execution_count": 53,
   "metadata": {},
   "outputs": [
    {
     "data": {
      "text/html": [
       "<div>\n",
       "<style scoped>\n",
       "    .dataframe tbody tr th:only-of-type {\n",
       "        vertical-align: middle;\n",
       "    }\n",
       "\n",
       "    .dataframe tbody tr th {\n",
       "        vertical-align: top;\n",
       "    }\n",
       "\n",
       "    .dataframe thead th {\n",
       "        text-align: right;\n",
       "    }\n",
       "</style>\n",
       "<table border=\"1\" class=\"dataframe\">\n",
       "  <thead>\n",
       "    <tr style=\"text-align: right;\">\n",
       "      <th></th>\n",
       "      <th>CreditScore</th>\n",
       "      <th>Geography</th>\n",
       "      <th>Gender</th>\n",
       "      <th>Age</th>\n",
       "      <th>Tenure</th>\n",
       "      <th>Balance</th>\n",
       "      <th>NumOfProducts</th>\n",
       "      <th>HasCrCard</th>\n",
       "      <th>IsActiveMember</th>\n",
       "      <th>Exited</th>\n",
       "    </tr>\n",
       "  </thead>\n",
       "  <tbody>\n",
       "    <tr>\n",
       "      <td>0</td>\n",
       "      <td>619</td>\n",
       "      <td>France</td>\n",
       "      <td>Female</td>\n",
       "      <td>42</td>\n",
       "      <td>2</td>\n",
       "      <td>0.00</td>\n",
       "      <td>1</td>\n",
       "      <td>1</td>\n",
       "      <td>1</td>\n",
       "      <td>1</td>\n",
       "    </tr>\n",
       "    <tr>\n",
       "      <td>1</td>\n",
       "      <td>608</td>\n",
       "      <td>Spain</td>\n",
       "      <td>Female</td>\n",
       "      <td>41</td>\n",
       "      <td>1</td>\n",
       "      <td>83807.86</td>\n",
       "      <td>1</td>\n",
       "      <td>0</td>\n",
       "      <td>1</td>\n",
       "      <td>0</td>\n",
       "    </tr>\n",
       "    <tr>\n",
       "      <td>2</td>\n",
       "      <td>502</td>\n",
       "      <td>France</td>\n",
       "      <td>Female</td>\n",
       "      <td>42</td>\n",
       "      <td>8</td>\n",
       "      <td>159660.80</td>\n",
       "      <td>3</td>\n",
       "      <td>1</td>\n",
       "      <td>0</td>\n",
       "      <td>1</td>\n",
       "    </tr>\n",
       "    <tr>\n",
       "      <td>3</td>\n",
       "      <td>699</td>\n",
       "      <td>France</td>\n",
       "      <td>Female</td>\n",
       "      <td>39</td>\n",
       "      <td>1</td>\n",
       "      <td>0.00</td>\n",
       "      <td>2</td>\n",
       "      <td>0</td>\n",
       "      <td>0</td>\n",
       "      <td>0</td>\n",
       "    </tr>\n",
       "    <tr>\n",
       "      <td>4</td>\n",
       "      <td>850</td>\n",
       "      <td>Spain</td>\n",
       "      <td>Female</td>\n",
       "      <td>43</td>\n",
       "      <td>2</td>\n",
       "      <td>125510.82</td>\n",
       "      <td>1</td>\n",
       "      <td>1</td>\n",
       "      <td>1</td>\n",
       "      <td>0</td>\n",
       "    </tr>\n",
       "  </tbody>\n",
       "</table>\n",
       "</div>"
      ],
      "text/plain": [
       "   CreditScore Geography  Gender  Age  Tenure    Balance  NumOfProducts  \\\n",
       "0          619    France  Female   42       2       0.00              1   \n",
       "1          608     Spain  Female   41       1   83807.86              1   \n",
       "2          502    France  Female   42       8  159660.80              3   \n",
       "3          699    France  Female   39       1       0.00              2   \n",
       "4          850     Spain  Female   43       2  125510.82              1   \n",
       "\n",
       "   HasCrCard  IsActiveMember  Exited  \n",
       "0          1               1       1  \n",
       "1          0               1       0  \n",
       "2          1               0       1  \n",
       "3          0               0       0  \n",
       "4          1               1       0  "
      ]
     },
     "execution_count": 53,
     "metadata": {},
     "output_type": "execute_result"
    }
   ],
   "source": [
    "df.head()"
   ]
  },
  {
   "cell_type": "markdown",
   "metadata": {},
   "source": [
    "# 2. Исследование задачи"
   ]
  },
  {
   "cell_type": "code",
   "execution_count": 54,
   "metadata": {},
   "outputs": [
    {
     "data": {
      "text/plain": [
       "<matplotlib.axes._subplots.AxesSubplot at 0x7f3f81e2e9d0>"
      ]
     },
     "execution_count": 54,
     "metadata": {},
     "output_type": "execute_result"
    },
    {
     "data": {
      "image/png": "[encoded data removed]",
      "text/plain": [
       "<Figure size 720x432 with 1 Axes>"
      ]
     },
     "metadata": {
      "needs_background": "light"
     },
     "output_type": "display_data"
    }
   ],
   "source": [
    "# Рисую гистограмму значений оттока и оставшихся клиентов\n",
    "df['Exited'].value_counts().plot(kind='bar',grid=True,figsize=(10,6),title='Соотношение тех, кто остался и тех кто ушел')"
   ]
  },
  {
   "cell_type": "markdown",
   "metadata": {},
   "source": [
    "Соотношение оттока и тех кто остался 1:4.\n",
    "Вывод: такое соотношение говорит, что присутствует дисбаланс в данных. "
   ]
  },
  {
   "cell_type": "code",
   "execution_count": 55,
   "metadata": {},
   "outputs": [
    {
     "data": {
      "image/png": "[encoded data removed]",
      "text/plain": [
       "<Figure size 1080x432 with 1 Axes>"
      ]
     },
     "metadata": {
      "needs_background": "light"
     },
     "output_type": "display_data"
    }
   ],
   "source": [
    "# Посмотрим как зависит возраст и отток клиентов \n",
    "df.groupby('Age')['Exited'].sum().plot(figsize=(15,6),kind='bar',title='Гистограмма возраста и оттока')\n",
    "plt.show()"
   ]
  },
  {
   "cell_type": "markdown",
   "metadata": {},
   "source": [
    "По гистограмме распределения видно, что отток зависит от возраста и распределено нормально. Больше всего уходит клиентов в возрасте от 40 до 50 лет."
   ]
  },
  {
   "cell_type": "markdown",
   "metadata": {},
   "source": [
    "---\n",
    "\n",
    "### Комментарий наставника\n",
    "\n",
    "Для того, чтобы делать какие-либо выводы о зависимости признака и целевой переменной по графику распределения, необходимо построить распределение признака у альтернативного значения целевого значения.\n",
    "\n",
    "Не исключено, что в целом форма распределения будет похожей, и тогда нельзя однозначно утверждать, что возраст имеет прямое влияние на целевую переменную.\n",
    "\n",
    "Более того, для закрепления сформированной гипотезы, следует провести статистический тест на равенство средних двух выборок (значения признака, разделенные по целевому значению 0 и 1).\n",
    "\n",
    "И после этих оценок, уже можно давать какие-либо утверждения. Они будут иметь больший вес.\n",
    "\n",
    "ЭТО ВАЖНЫЙ МОМЕНТ\n",
    "\n",
    "---"
   ]
  },
  {
   "cell_type": "code",
   "execution_count": 56,
   "metadata": {},
   "outputs": [
    {
     "data": {
      "image/png": "[encoded data removed]",
      "text/plain": [
       "<Figure size 1080x432 with 1 Axes>"
      ]
     },
     "metadata": {
      "needs_background": "light"
     },
     "output_type": "display_data"
    }
   ],
   "source": [
    "# Посмотрим как зависит наличие недвижимости и отток клиентов \n",
    "df.groupby('Tenure')['Exited'].count().plot(figsize=(15,6),kind='bar',title='Гистограмма наличия недвижимости и оттока')\n",
    "plt.show()"
   ]
  },
  {
   "cell_type": "markdown",
   "metadata": {},
   "source": [
    "На этой гисторгамме видна не очень сильная зависимость, но можно увидеть, что те у кого нет недвижимости уходят чаще."
   ]
  },
  {
   "cell_type": "code",
   "execution_count": 57,
   "metadata": {},
   "outputs": [
    {
     "data": {
      "text/plain": [
       "<matplotlib.axes._subplots.AxesSubplot at 0x7f3f81da9790>"
      ]
     },
     "execution_count": 57,
     "metadata": {},
     "output_type": "execute_result"
    },
    {
     "data": {
      "image/png": "[encoded data removed]",
      "text/plain": [
       "<Figure size 432x288 with 1 Axes>"
      ]
     },
     "metadata": {
      "needs_background": "light"
     },
     "output_type": "display_data"
    }
   ],
   "source": [
    "df.groupby('Exited')['Balance'].median().plot(kind='bar',title='Гистограмма медианного баланса денег у тех кто ушел и тех кто остался')\n"
   ]
  },
  {
   "cell_type": "markdown",
   "metadata": {},
   "source": [
    "На гистограмме видно, что зависимость не сильная, но среднее значение баланса немного выше у тех кто ушел."
   ]
  },
  {
   "cell_type": "code",
   "execution_count": 58,
   "metadata": {},
   "outputs": [
    {
     "data": {
      "text/html": [
       "<div>\n",
       "<style scoped>\n",
       "    .dataframe tbody tr th:only-of-type {\n",
       "        vertical-align: middle;\n",
       "    }\n",
       "\n",
       "    .dataframe tbody tr th {\n",
       "        vertical-align: top;\n",
       "    }\n",
       "\n",
       "    .dataframe thead th {\n",
       "        text-align: right;\n",
       "    }\n",
       "</style>\n",
       "<table border=\"1\" class=\"dataframe\">\n",
       "  <thead>\n",
       "    <tr style=\"text-align: right;\">\n",
       "      <th></th>\n",
       "      <th>CreditScore</th>\n",
       "      <th>Age</th>\n",
       "      <th>Tenure</th>\n",
       "      <th>Balance</th>\n",
       "      <th>NumOfProducts</th>\n",
       "      <th>HasCrCard</th>\n",
       "      <th>IsActiveMember</th>\n",
       "      <th>Exited</th>\n",
       "    </tr>\n",
       "  </thead>\n",
       "  <tbody>\n",
       "    <tr>\n",
       "      <td>CreditScore</td>\n",
       "      <td>1.000000</td>\n",
       "      <td>-0.003965</td>\n",
       "      <td>0.003087</td>\n",
       "      <td>0.006268</td>\n",
       "      <td>0.012238</td>\n",
       "      <td>-0.005458</td>\n",
       "      <td>0.025651</td>\n",
       "      <td>-0.027094</td>\n",
       "    </tr>\n",
       "    <tr>\n",
       "      <td>Age</td>\n",
       "      <td>-0.003965</td>\n",
       "      <td>1.000000</td>\n",
       "      <td>-0.007368</td>\n",
       "      <td>0.028308</td>\n",
       "      <td>-0.030680</td>\n",
       "      <td>-0.011721</td>\n",
       "      <td>0.085472</td>\n",
       "      <td>0.285323</td>\n",
       "    </tr>\n",
       "    <tr>\n",
       "      <td>Tenure</td>\n",
       "      <td>0.003087</td>\n",
       "      <td>-0.007368</td>\n",
       "      <td>1.000000</td>\n",
       "      <td>-0.005821</td>\n",
       "      <td>0.010106</td>\n",
       "      <td>0.021387</td>\n",
       "      <td>-0.025856</td>\n",
       "      <td>-0.013319</td>\n",
       "    </tr>\n",
       "    <tr>\n",
       "      <td>Balance</td>\n",
       "      <td>0.006268</td>\n",
       "      <td>0.028308</td>\n",
       "      <td>-0.005821</td>\n",
       "      <td>1.000000</td>\n",
       "      <td>-0.304180</td>\n",
       "      <td>-0.014858</td>\n",
       "      <td>-0.010084</td>\n",
       "      <td>0.118533</td>\n",
       "    </tr>\n",
       "    <tr>\n",
       "      <td>NumOfProducts</td>\n",
       "      <td>0.012238</td>\n",
       "      <td>-0.030680</td>\n",
       "      <td>0.010106</td>\n",
       "      <td>-0.304180</td>\n",
       "      <td>1.000000</td>\n",
       "      <td>0.003183</td>\n",
       "      <td>0.009612</td>\n",
       "      <td>-0.047820</td>\n",
       "    </tr>\n",
       "    <tr>\n",
       "      <td>HasCrCard</td>\n",
       "      <td>-0.005458</td>\n",
       "      <td>-0.011721</td>\n",
       "      <td>0.021387</td>\n",
       "      <td>-0.014858</td>\n",
       "      <td>0.003183</td>\n",
       "      <td>1.000000</td>\n",
       "      <td>-0.011866</td>\n",
       "      <td>-0.007138</td>\n",
       "    </tr>\n",
       "    <tr>\n",
       "      <td>IsActiveMember</td>\n",
       "      <td>0.025651</td>\n",
       "      <td>0.085472</td>\n",
       "      <td>-0.025856</td>\n",
       "      <td>-0.010084</td>\n",
       "      <td>0.009612</td>\n",
       "      <td>-0.011866</td>\n",
       "      <td>1.000000</td>\n",
       "      <td>-0.156128</td>\n",
       "    </tr>\n",
       "    <tr>\n",
       "      <td>Exited</td>\n",
       "      <td>-0.027094</td>\n",
       "      <td>0.285323</td>\n",
       "      <td>-0.013319</td>\n",
       "      <td>0.118533</td>\n",
       "      <td>-0.047820</td>\n",
       "      <td>-0.007138</td>\n",
       "      <td>-0.156128</td>\n",
       "      <td>1.000000</td>\n",
       "    </tr>\n",
       "  </tbody>\n",
       "</table>\n",
       "</div>"
      ],
      "text/plain": [
       "                CreditScore       Age    Tenure   Balance  NumOfProducts  \\\n",
       "CreditScore        1.000000 -0.003965  0.003087  0.006268       0.012238   \n",
       "Age               -0.003965  1.000000 -0.007368  0.028308      -0.030680   \n",
       "Tenure             0.003087 -0.007368  1.000000 -0.005821       0.010106   \n",
       "Balance            0.006268  0.028308 -0.005821  1.000000      -0.304180   \n",
       "NumOfProducts      0.012238 -0.030680  0.010106 -0.304180       1.000000   \n",
       "HasCrCard         -0.005458 -0.011721  0.021387 -0.014858       0.003183   \n",
       "IsActiveMember     0.025651  0.085472 -0.025856 -0.010084       0.009612   \n",
       "Exited            -0.027094  0.285323 -0.013319  0.118533      -0.047820   \n",
       "\n",
       "                HasCrCard  IsActiveMember    Exited  \n",
       "CreditScore     -0.005458        0.025651 -0.027094  \n",
       "Age             -0.011721        0.085472  0.285323  \n",
       "Tenure           0.021387       -0.025856 -0.013319  \n",
       "Balance         -0.014858       -0.010084  0.118533  \n",
       "NumOfProducts    0.003183        0.009612 -0.047820  \n",
       "HasCrCard        1.000000       -0.011866 -0.007138  \n",
       "IsActiveMember  -0.011866        1.000000 -0.156128  \n",
       "Exited          -0.007138       -0.156128  1.000000  "
      ]
     },
     "execution_count": 58,
     "metadata": {},
     "output_type": "execute_result"
    }
   ],
   "source": [
    "df.corr() # Считаю корреляцию Пирсона"
   ]
  },
  {
   "cell_type": "markdown",
   "metadata": {},
   "source": [
    "Видно, что все признаки не сильно коррелируются с целевым признаком. Скорее всего там зависимость сложнее."
   ]
  },
  {
   "cell_type": "markdown",
   "metadata": {},
   "source": [
    "## One hot encoder\n",
    "Избавляемся от категориальных признаков методом One hot encoder"
   ]
  },
  {
   "cell_type": "code",
   "execution_count": 59,
   "metadata": {},
   "outputs": [],
   "source": [
    "df_ohe=pd.get_dummies(df,drop_first=True) # вызываем метод get_dummies для избавления от категориальных признаков"
   ]
  },
  {
   "cell_type": "code",
   "execution_count": 60,
   "metadata": {},
   "outputs": [],
   "source": [
    "target=df_ohe['Exited'] # Целевой признак\n",
    "features=df_ohe.drop(['Exited'],axis=1) # Признаки"
   ]
  },
  {
   "cell_type": "code",
   "execution_count": 61,
   "metadata": {},
   "outputs": [],
   "source": [
    "train_features,valid_features,train_target,valid_target=train_test_split(features,target,test_size=0.25,random_state=1234)\n",
    "#Разбиваем данные после OHE на четыре выборки train_features,valid_features,train_target,valid_target"
   ]
  },
  {
   "cell_type": "code",
   "execution_count": 62,
   "metadata": {},
   "outputs": [
    {
     "name": "stderr",
     "output_type": "stream",
     "text": [
      "/opt/conda/lib/python3.7/site-packages/ipykernel_launcher.py:5: SettingWithCopyWarning: \n",
      "A value is trying to be set on a copy of a slice from a DataFrame.\n",
      "Try using .loc[row_indexer,col_indexer] = value instead\n",
      "\n",
      "See the caveats in the documentation: http://pandas.pydata.org/pandas-docs/stable/user_guide/indexing.html#returning-a-view-versus-a-copy\n",
      "  \"\"\"\n",
      "/opt/conda/lib/python3.7/site-packages/pandas/core/indexing.py:494: SettingWithCopyWarning: \n",
      "A value is trying to be set on a copy of a slice from a DataFrame.\n",
      "Try using .loc[row_indexer,col_indexer] = value instead\n",
      "\n",
      "See the caveats in the documentation: http://pandas.pydata.org/pandas-docs/stable/user_guide/indexing.html#returning-a-view-versus-a-copy\n",
      "  self.obj[item] = s\n",
      "/opt/conda/lib/python3.7/site-packages/ipykernel_launcher.py:6: SettingWithCopyWarning: \n",
      "A value is trying to be set on a copy of a slice from a DataFrame.\n",
      "Try using .loc[row_indexer,col_indexer] = value instead\n",
      "\n",
      "See the caveats in the documentation: http://pandas.pydata.org/pandas-docs/stable/user_guide/indexing.html#returning-a-view-versus-a-copy\n",
      "  \n",
      "/opt/conda/lib/python3.7/site-packages/pandas/core/indexing.py:494: SettingWithCopyWarning: \n",
      "A value is trying to be set on a copy of a slice from a DataFrame.\n",
      "Try using .loc[row_indexer,col_indexer] = value instead\n",
      "\n",
      "See the caveats in the documentation: http://pandas.pydata.org/pandas-docs/stable/user_guide/indexing.html#returning-a-view-versus-a-copy\n",
      "  self.obj[item] = s\n"
     ]
    }
   ],
   "source": [
    "# Стандартизируем тестовую и валидную выборку, т.к есть значения и маленькие и очень большие. \n",
    "numeric=['CreditScore','Age','Tenure','Balance','NumOfProducts','HasCrCard','IsActiveMember']\n",
    "scaler=StandardScaler()\n",
    "scaler.fit(train_features[numeric])\n",
    "train_features[numeric]=scaler.transform(train_features[numeric])\n",
    "valid_features[numeric]=scaler.transform(valid_features[numeric])"
   ]
  },
  {
   "cell_type": "markdown",
   "metadata": {},
   "source": [
    "---\n",
    "\n",
    "### Комментарий наставника\n",
    "\n",
    "Согласен с тобой. Например, логистическая регрессия может \"не простить\" сильные различия в масштабах, если не привести +- одинаковой шкале.\n",
    "\n",
    "---"
   ]
  },
  {
   "cell_type": "markdown",
   "metadata": {},
   "source": [
    "## Original Encoder"
   ]
  },
  {
   "cell_type": "code",
   "execution_count": 18,
   "metadata": {},
   "outputs": [],
   "source": [
    "## Original Encoder"
   ]
  },
  {
   "cell_type": "code",
   "execution_count": 19,
   "metadata": {},
   "outputs": [],
   "source": [
    "#encoder=OrdinalEncoder()\n",
    "#original_df=pd.DataFrame(encoder.fit_transform(df),columns=df.columns)"
   ]
  },
  {
   "cell_type": "code",
   "execution_count": 20,
   "metadata": {},
   "outputs": [],
   "source": [
    "#original_df.head()"
   ]
  },
  {
   "cell_type": "code",
   "execution_count": 21,
   "metadata": {},
   "outputs": [],
   "source": [
    "#target=original_df['Exited']\n",
    "#features=original_df.drop(['Exited'],axis=1)"
   ]
  },
  {
   "cell_type": "markdown",
   "metadata": {},
   "source": [
    "Метод Original encoder не принес хорошего результат, поэтому я его закомментировал"
   ]
  },
  {
   "cell_type": "markdown",
   "metadata": {},
   "source": [
    "# Строю модель без учета баланса"
   ]
  },
  {
   "cell_type": "markdown",
   "metadata": {},
   "source": [
    "## Обучение с помощью модели Дерево решения"
   ]
  },
  {
   "cell_type": "code",
   "execution_count": 63,
   "metadata": {},
   "outputs": [
    {
     "name": "stdout",
     "output_type": "stream",
     "text": [
      "max_depth: 1 F1: 0.0\n",
      "max_depth: 2 F1: 0.5207373271889401\n",
      "max_depth: 3 F1: 0.4029850746268657\n",
      "max_depth: 4 F1: 0.4648648648648649\n",
      "max_depth: 5 F1: 0.5144356955380577\n",
      "max_depth: 6 F1: 0.5209424083769634\n",
      "max_depth: 7 F1: 0.5860889395667048\n",
      "max_depth: 8 F1: 0.5550239234449761\n",
      "max_depth: 9 F1: 0.5444191343963554\n"
     ]
    },
    {
     "name": "stderr",
     "output_type": "stream",
     "text": [
      "/opt/conda/lib/python3.7/site-packages/sklearn/metrics/classification.py:1437: UndefinedMetricWarning: F-score is ill-defined and being set to 0.0 due to no predicted samples.\n",
      "  'precision', 'predicted', average, warn_for)\n"
     ]
    }
   ],
   "source": [
    "# Циклом ищем лучший гиперпораметр max_depth\n",
    "\n",
    "for depth in range(1,10,1):\n",
    "    model_tree=DecisionTreeClassifier(max_depth=depth,random_state=1234).fit(train_features,train_target)\n",
    "    prediction=model_tree.predict(valid_features)\n",
    "    print('max_depth:',depth,'F1:',f1_score(valid_target,prediction))"
   ]
  },
  {
   "cell_type": "markdown",
   "metadata": {},
   "source": [
    "### Вывод: лучшее значение max_depth=7, при котором F1=0,586"
   ]
  },
  {
   "cell_type": "markdown",
   "metadata": {},
   "source": [
    "## Обучение с помощью модели Случайный лес"
   ]
  },
  {
   "cell_type": "code",
   "execution_count": 64,
   "metadata": {},
   "outputs": [
    {
     "name": "stderr",
     "output_type": "stream",
     "text": [
      "/opt/conda/lib/python3.7/site-packages/sklearn/metrics/classification.py:1437: UndefinedMetricWarning: F-score is ill-defined and being set to 0.0 due to no predicted samples.\n",
      "  'precision', 'predicted', average, warn_for)\n"
     ]
    },
    {
     "name": "stdout",
     "output_type": "stream",
     "text": [
      "max_depth: 1 F1: 0.0\n",
      "max_depth: 2 F1: 0.18214285714285713\n",
      "max_depth: 3 F1: 0.3056910569105691\n",
      "max_depth: 4 F1: 0.39696969696969703\n",
      "max_depth: 5 F1: 0.4868603042876901\n",
      "max_depth: 6 F1: 0.5013698630136987\n",
      "max_depth: 7 F1: 0.5336856010568032\n",
      "max_depth: 8 F1: 0.5397653194263363\n",
      "max_depth: 9 F1: 0.5586734693877552\n",
      "max_depth: 10 F1: 0.5641025641025641\n",
      "max_depth: 11 F1: 0.571072319201995\n",
      "max_depth: 12 F1: 0.5671641791044776\n",
      "max_depth: 13 F1: 0.561186650185414\n",
      "max_depth: 14 F1: 0.5668711656441718\n",
      "max_depth: 15 F1: 0.5585365853658536\n",
      "max_depth: 16 F1: 0.5543345543345544\n",
      "max_depth: 17 F1: 0.5543345543345544\n",
      "max_depth: 18 F1: 0.5578562728380024\n",
      "max_depth: 19 F1: 0.5590361445783133\n"
     ]
    }
   ],
   "source": [
    "# Циклом ищем лучший гиперпораметр max_depth\n",
    "\n",
    "for max_depth in range(1,20,1):\n",
    "    model_forest=RandomForestClassifier(max_depth=max_depth,n_estimators=50,random_state=1234).fit(train_features,train_target)\n",
    "    prediction=model_forest.predict(valid_features)\n",
    "    print('max_depth:',max_depth,'F1:',f1_score(valid_target,prediction))\n",
    "    "
   ]
  },
  {
   "cell_type": "markdown",
   "metadata": {},
   "source": [
    "### Вывод: лучшее значение max_depth=11, при котором F1=0,571"
   ]
  },
  {
   "cell_type": "code",
   "execution_count": 65,
   "metadata": {},
   "outputs": [
    {
     "name": "stdout",
     "output_type": "stream",
     "text": [
      "estim 1 F1: 0.47393364928909953\n",
      "estim 3 F1: 0.5333333333333334\n",
      "estim 5 F1: 0.53\n",
      "estim 7 F1: 0.5431789737171465\n",
      "estim 9 F1: 0.5470514429109159\n",
      "estim 11 F1: 0.5440806045340051\n",
      "estim 13 F1: 0.5506883604505632\n",
      "estim 15 F1: 0.5465994962216625\n",
      "estim 17 F1: 0.5472887767969736\n",
      "estim 19 F1: 0.550251256281407\n",
      "estim 21 F1: 0.5566750629722923\n",
      "estim 23 F1: 0.5674653215636821\n",
      "estim 25 F1: 0.5699873896595208\n",
      "estim 27 F1: 0.5678391959798994\n",
      "estim 29 F1: 0.5667915106117354\n",
      "estim 31 F1: 0.5610062893081761\n",
      "estim 33 F1: 0.565\n",
      "estim 35 F1: 0.5728518057285181\n",
      "estim 37 F1: 0.5728518057285181\n",
      "estim 39 F1: 0.5595984943538268\n",
      "estim 41 F1: 0.5646173149309912\n",
      "estim 43 F1: 0.5667506297229219\n",
      "estim 45 F1: 0.5696361355081556\n",
      "estim 47 F1: 0.5700000000000001\n",
      "estim 49 F1: 0.5671267252195734\n"
     ]
    }
   ],
   "source": [
    "# Циклом подбираем гиперпораметр n_estimators (количество деревьев)\n",
    "for estim in range(1,50,2):\n",
    "    model_forest=RandomForestClassifier(max_depth=11,n_estimators=estim,random_state=1234).fit(train_features,train_target)\n",
    "    prediction=model_forest.predict(valid_features)\n",
    "    print('estim',estim,'F1:',f1_score(valid_target,prediction))\n",
    "    "
   ]
  },
  {
   "cell_type": "markdown",
   "metadata": {},
   "source": [
    "### Вывод: лучшее значение max_depth=11 и n_estimators=35 при котором F1=0,573. Стало лучше."
   ]
  },
  {
   "cell_type": "markdown",
   "metadata": {},
   "source": [
    "## Обучение с помощью модели Логистической регрессии"
   ]
  },
  {
   "cell_type": "code",
   "execution_count": 66,
   "metadata": {},
   "outputs": [
    {
     "name": "stdout",
     "output_type": "stream",
     "text": [
      "F1: 0.3182481751824818\n"
     ]
    },
    {
     "name": "stderr",
     "output_type": "stream",
     "text": [
      "/opt/conda/lib/python3.7/site-packages/sklearn/linear_model/logistic.py:432: FutureWarning: Default solver will be changed to 'lbfgs' in 0.22. Specify a solver to silence this warning.\n",
      "  FutureWarning)\n"
     ]
    }
   ],
   "source": [
    "model_logistic=LogisticRegression().fit(train_features,train_target)\n",
    "prediction=model_logistic.predict(valid_features)\n",
    "print('F1:',f1_score(valid_target,prediction))"
   ]
  },
  {
   "cell_type": "markdown",
   "metadata": {},
   "source": [
    "### Вывод: F1=0.318"
   ]
  },
  {
   "cell_type": "markdown",
   "metadata": {},
   "source": [
    "## Общий вывод: "
   ]
  },
  {
   "cell_type": "markdown",
   "metadata": {},
   "source": [
    "Рассматривая данные с дисбалансом (но, с переведенные категориальные и стандартизированные данные) тремя моделями можно сделать вывод, что саммая лучшая модель оказалась Дерево решения. При лучшем значении max_depth=7, мы имеем F1 меру =0,586 на тестовой(валидной) выборке."
   ]
  },
  {
   "cell_type": "markdown",
   "metadata": {},
   "source": [
    "# 3. Борьба с дисбалансом"
   ]
  },
  {
   "cell_type": "markdown",
   "metadata": {},
   "source": [
    "### Воспользуемся функцией Upsampling и увеличим количество клиентов оттока(target==1)"
   ]
  },
  {
   "cell_type": "code",
   "execution_count": 67,
   "metadata": {},
   "outputs": [],
   "source": [
    "## Функция Upsampling\n",
    "def upsampling (features,target,repeat):\n",
    "    #Разделяем выборку по значениям целевой функции\n",
    "    target_one=target[target==1]\n",
    "    target_null=target[target==0]\n",
    "    features_one=features[target==1]\n",
    "    features_null=features[target==0]\n",
    "    \n",
    "    #Увеличиваем и соединяем обратно\n",
    "    upsampling_features=pd.concat([features_null]+[features_one]*repeat)\n",
    "    upsampling_target=pd.concat([target_null]+[target_one]*repeat)\n",
    "    \n",
    "    # Перемешиваем\n",
    "    upsampling_features,upsampling_target=shuffle(upsampling_features,upsampling_target,random_state=1234)\n",
    "    \n",
    "    return upsampling_features,upsampling_target"
   ]
  },
  {
   "cell_type": "code",
   "execution_count": 68,
   "metadata": {},
   "outputs": [],
   "source": [
    "features_balance_up,target_balance_up=upsampling(train_features,train_target,4)"
   ]
  },
  {
   "cell_type": "markdown",
   "metadata": {},
   "source": [
    "### Воспользуемся функцией Downsampling и увеличим количество клиентов оттока(target==1)"
   ]
  },
  {
   "cell_type": "code",
   "execution_count": 69,
   "metadata": {},
   "outputs": [],
   "source": [
    "def downsampling(features,target,fraction):\n",
    "    features_null=features[target==0]\n",
    "    features_one=features[target==1]\n",
    "    target_null=target[target==0]\n",
    "    target_one=target[target==1]\n",
    "    \n",
    "    downsampling_features=pd.concat([features_null.sample(frac=0.4,random_state=1234)]+[features_one])\n",
    "    downsampling_target=pd.concat([target_null.sample(frac=0.4,random_state=1234)]+[target_one])\n",
    "    \n",
    "    downsampling_features,downsampling_target=shuffle(downsampling_features,downsampling_target,random_state=1234)\n",
    "    return downsampling_features,downsampling_target"
   ]
  },
  {
   "cell_type": "code",
   "execution_count": 70,
   "metadata": {},
   "outputs": [],
   "source": [
    "features_balance_up,target_balance_up=downsampling(features,target,0.4)"
   ]
  },
  {
   "cell_type": "markdown",
   "metadata": {},
   "source": [
    "Вывод: т.к количество данных не так много, я решил не пользоваться методом уменьшения выборки (Downsampling). Проверил с этой выборки модели, все показали F2 около 0.3... Самая лучшая модель оказалась Логистическая регрессия. \n",
    "Буду использовать Upsampling."
   ]
  },
  {
   "cell_type": "markdown",
   "metadata": {},
   "source": [
    "# 4. Тестирование модели"
   ]
  },
  {
   "cell_type": "markdown",
   "metadata": {},
   "source": [
    "## После балансирования данных. Обучение с помощью модели Дерево решения"
   ]
  },
  {
   "cell_type": "code",
   "execution_count": 71,
   "metadata": {},
   "outputs": [
    {
     "name": "stderr",
     "output_type": "stream",
     "text": [
      "/opt/conda/lib/python3.7/site-packages/sklearn/metrics/classification.py:1437: UndefinedMetricWarning: F-score is ill-defined and being set to 0.0 due to no predicted samples.\n",
      "  'precision', 'predicted', average, warn_for)\n"
     ]
    },
    {
     "name": "stdout",
     "output_type": "stream",
     "text": [
      "max_depth: 1 F1: 0.0\n",
      "max_depth: 2 F1: 0.26666666666666666\n",
      "max_depth: 3 F1: 0.26666666666666666\n",
      "max_depth: 4 F1: 0.4223918575063613\n",
      "max_depth: 5 F1: 0.2784184514003295\n",
      "max_depth: 6 F1: 0.26666666666666666\n",
      "max_depth: 7 F1: 0.33721316927169936\n",
      "max_depth: 8 F1: 0.324438202247191\n",
      "max_depth: 9 F1: 0.324438202247191\n",
      "max_depth: 10 F1: 0.324438202247191\n",
      "max_depth: 11 F1: 0.33721316927169936\n",
      "max_depth: 12 F1: 0.324438202247191\n",
      "max_depth: 13 F1: 0.33721316927169936\n",
      "max_depth: 14 F1: 0.31925233644859813\n",
      "max_depth: 15 F1: 0.324438202247191\n",
      "max_depth: 16 F1: 0.31925233644859813\n",
      "max_depth: 17 F1: 0.31925233644859813\n",
      "max_depth: 18 F1: 0.2784184514003295\n",
      "max_depth: 19 F1: 0.324438202247191\n",
      "CPU times: user 428 ms, sys: 20 ms, total: 448 ms\n",
      "Wall time: 460 ms\n"
     ]
    }
   ],
   "source": [
    "%%time\n",
    "# Циклом ищем лучший гиперпораметр max_depth\n",
    "\n",
    "for depth in range(1,20,1):\n",
    "    model_tree=DecisionTreeClassifier(class_weight='balanced',max_depth=depth,random_state=1234).fit(features_balance_up,target_balance_up)\n",
    "  \n",
    "    prediction=model_tree.predict(valid_features)\n",
    "    print('max_depth:',depth,'F1:',f1_score(valid_target,prediction))"
   ]
  },
  {
   "cell_type": "markdown",
   "metadata": {},
   "source": [
    "## После балансирования данных. Обучение с помощью модели Случайный лес"
   ]
  },
  {
   "cell_type": "code",
   "execution_count": 72,
   "metadata": {},
   "outputs": [
    {
     "name": "stdout",
     "output_type": "stream",
     "text": [
      "max_depth: 1 F1: 0.26666666666666666\n",
      "max_depth: 2 F1: 0.26666666666666666\n",
      "max_depth: 3 F1: 0.26666666666666666\n",
      "max_depth: 4 F1: 0.299039780521262\n",
      "max_depth: 5 F1: 0.26666666666666666\n",
      "max_depth: 6 F1: 0.3016304347826087\n",
      "max_depth: 7 F1: 0.20804195804195807\n",
      "max_depth: 8 F1: 0.25085518814139107\n",
      "max_depth: 9 F1: 0.26800000000000007\n",
      "max_depth: 10 F1: 0.24876325088339227\n",
      "max_depth: 11 F1: 0.25333333333333335\n",
      "max_depth: 12 F1: 0.2717900656044986\n",
      "max_depth: 13 F1: 0.2805701425356339\n",
      "max_depth: 14 F1: 0.27142857142857146\n",
      "max_depth: 15 F1: 0.2729044834307992\n",
      "max_depth: 16 F1: 0.27483196415235256\n",
      "max_depth: 17 F1: 0.2836710369487485\n",
      "max_depth: 18 F1: 0.28179322964318393\n",
      "max_depth: 19 F1: 0.2683127572016461\n",
      "CPU times: user 5.66 s, sys: 28 ms, total: 5.69 s\n",
      "Wall time: 5.75 s\n"
     ]
    }
   ],
   "source": [
    "%%time\n",
    "# Циклом ищем лучший гиперпораметр max_depth\n",
    "\n",
    "for max_depth in range(1,20,1):\n",
    "    model_forest=RandomForestClassifier(class_weight='balanced',max_depth=max_depth,n_estimators=50,random_state=1234).fit(features_balance_up,target_balance_up)\n",
    "    prediction=model_forest.predict(valid_features)\n",
    "    print('max_depth:',max_depth,'F1:',f1_score(valid_target,prediction))\n",
    "    "
   ]
  },
  {
   "cell_type": "code",
   "execution_count": 73,
   "metadata": {},
   "outputs": [
    {
     "name": "stdout",
     "output_type": "stream",
     "text": [
      "estim 1 F1: 0.33721316927169936\n",
      "estim 2 F1: 0.33721316927169936\n",
      "estim 3 F1: 0.33721316927169936\n",
      "estim 4 F1: 0.3740374037403741\n",
      "estim 5 F1: 0.3784969829950631\n",
      "estim 6 F1: 0.3492063492063492\n",
      "estim 7 F1: 0.37456647398843934\n",
      "estim 8 F1: 0.28187919463087246\n",
      "estim 9 F1: 0.3094688221709007\n",
      "estim 10 F1: 0.28847926267281104\n",
      "estim 11 F1: 0.2877406281661601\n",
      "estim 12 F1: 0.28964252978918426\n",
      "estim 13 F1: 0.3162217659137577\n",
      "estim 14 F1: 0.313865358894338\n",
      "estim 15 F1: 0.3156012516763523\n",
      "estim 16 F1: 0.3134191176470589\n",
      "estim 17 F1: 0.32338079926504365\n",
      "estim 18 F1: 0.32338079926504365\n",
      "estim 19 F1: 0.3233256351039261\n",
      "estim 20 F1: 0.3203266787658802\n",
      "estim 21 F1: 0.3080568720379147\n",
      "estim 22 F1: 0.30857690464781984\n",
      "estim 23 F1: 0.30984601026598224\n",
      "estim 24 F1: 0.309412861136999\n",
      "estim 25 F1: 0.2961480740370185\n",
      "estim 26 F1: 0.29105608893380497\n",
      "estim 27 F1: 0.2734584450402145\n",
      "estim 28 F1: 0.28526808953669963\n",
      "estim 29 F1: 0.28616187989556136\n",
      "estim 30 F1: 0.29855217174238646\n",
      "estim 31 F1: 0.2890946502057613\n",
      "estim 32 F1: 0.2632146709816613\n",
      "estim 33 F1: 0.2890946502057613\n",
      "estim 34 F1: 0.26278944534194937\n",
      "estim 35 F1: 0.25396825396825395\n",
      "estim 36 F1: 0.23716814159292038\n",
      "estim 37 F1: 0.2762912258867455\n",
      "estim 38 F1: 0.25017568517217154\n",
      "estim 39 F1: 0.2505277973258269\n",
      "estim 40 F1: 0.24912033779028855\n",
      "estim 41 F1: 0.2541583499667332\n",
      "estim 42 F1: 0.25155494125777467\n",
      "estim 43 F1: 0.2541583499667332\n",
      "estim 44 F1: 0.2541583499667332\n",
      "estim 45 F1: 0.25514950166112954\n",
      "estim 46 F1: 0.25514950166112954\n",
      "estim 47 F1: 0.25514950166112954\n",
      "estim 48 F1: 0.25514950166112954\n",
      "estim 49 F1: 0.25333333333333335\n",
      "estim 50 F1: 0.25333333333333335\n",
      "CPU times: user 8.91 s, sys: 68 ms, total: 8.98 s\n",
      "Wall time: 9.07 s\n"
     ]
    }
   ],
   "source": [
    "%%time\n",
    "# Циклом подбираем гиперпораметр n_estimators (количество деревьев)\n",
    "for estim in range(1,51,1):\n",
    "    model_forest=RandomForestClassifier(class_weight='balanced',max_depth=11,n_estimators=estim,random_state=1234).fit(features_balance_up,target_balance_up)\n",
    "    prediction=model_forest.predict(valid_features)\n",
    "    print('estim',estim,'F1:',f1_score(valid_target,prediction))\n",
    "    "
   ]
  },
  {
   "cell_type": "code",
   "execution_count": 33,
   "metadata": {},
   "outputs": [],
   "source": [
    " model_forest=RandomForestClassifier(class_weight='balanced',max_depth=11,n_estimators=50,random_state=1234).fit(features_balance_up,target_balance_up)"
   ]
  },
  {
   "cell_type": "markdown",
   "metadata": {},
   "source": [
    "## После балансирования данных. Обучение с помощью модели Логистической регрессии"
   ]
  },
  {
   "cell_type": "code",
   "execution_count": 34,
   "metadata": {},
   "outputs": [
    {
     "name": "stdout",
     "output_type": "stream",
     "text": [
      "F1: 0.4366499642090193\n",
      "CPU times: user 60 ms, sys: 4 ms, total: 64 ms\n",
      "Wall time: 44.8 ms\n"
     ]
    }
   ],
   "source": [
    "%%time\n",
    "model_logistic=LogisticRegression(class_weight='balanced',solver='liblinear').fit(features_balance_up,target_balance_up)\n",
    "prediction=model_logistic.predict(valid_features)\n",
    "print('F1:',f1_score(valid_target,prediction))"
   ]
  },
  {
   "cell_type": "markdown",
   "metadata": {},
   "source": [
    "### Вывод: Мера F1 поменялась. Стала гораздо лучше. F1=0.478"
   ]
  },
  {
   "cell_type": "markdown",
   "metadata": {},
   "source": [
    "## Исследование метрика AUC-ROC"
   ]
  },
  {
   "cell_type": "markdown",
   "metadata": {},
   "source": [
    "Рисуем ROC  для логистической регрессии"
   ]
  },
  {
   "cell_type": "code",
   "execution_count": 35,
   "metadata": {},
   "outputs": [],
   "source": [
    "probabilities_tree=model_tree.predict_proba(valid_features)\n",
    "probabilities_one_valid_tree=probabilities_tree[:,1]\n",
    "fpr_tree,tpr_tree,thresholds=roc_curve(valid_target,probabilities_one_valid_tree)"
   ]
  },
  {
   "cell_type": "code",
   "execution_count": 36,
   "metadata": {},
   "outputs": [],
   "source": [
    "auc_roc_tree=roc_auc_score(valid_target,probabilities_one_valid_tree)"
   ]
  },
  {
   "cell_type": "code",
   "execution_count": 37,
   "metadata": {},
   "outputs": [
    {
     "data": {
      "text/plain": [
       "0.4842214021263772"
      ]
     },
     "execution_count": 37,
     "metadata": {},
     "output_type": "execute_result"
    }
   ],
   "source": [
    "auc_roc_tree"
   ]
  },
  {
   "cell_type": "code",
   "execution_count": 38,
   "metadata": {},
   "outputs": [],
   "source": [
    "probabilities_forest=model_forest.predict_proba(valid_features)\n",
    "probabilities_one_valid_forest=probabilities_forest[:,1]\n",
    "fpr_forest,tpr_forest,thresholds=roc_curve(valid_target,probabilities_one_valid_forest)"
   ]
  },
  {
   "cell_type": "code",
   "execution_count": 39,
   "metadata": {},
   "outputs": [],
   "source": [
    "auc_roc_forest=roc_auc_score(valid_target,probabilities_one_valid_forest)"
   ]
  },
  {
   "cell_type": "code",
   "execution_count": 40,
   "metadata": {},
   "outputs": [
    {
     "data": {
      "text/plain": [
       "0.5396535804309165"
      ]
     },
     "execution_count": 40,
     "metadata": {},
     "output_type": "execute_result"
    }
   ],
   "source": [
    "auc_roc_forest"
   ]
  },
  {
   "cell_type": "code",
   "execution_count": 41,
   "metadata": {},
   "outputs": [],
   "source": [
    "probabilities_reg=model_logistic.predict_proba(valid_features)\n",
    "probabilities_one_valid_reg=probabilities_reg[:,1]\n",
    "fpr_log,tpr_log,thresholds=roc_curve(valid_target,probabilities_one_valid_reg)"
   ]
  },
  {
   "cell_type": "code",
   "execution_count": 42,
   "metadata": {},
   "outputs": [],
   "source": [
    "auc_roc_reg=roc_auc_score(valid_target,probabilities_one_valid_reg)"
   ]
  },
  {
   "cell_type": "code",
   "execution_count": 43,
   "metadata": {},
   "outputs": [
    {
     "data": {
      "text/plain": [
       "0.7049574892795395"
      ]
     },
     "execution_count": 43,
     "metadata": {},
     "output_type": "execute_result"
    }
   ],
   "source": [
    "auc_roc_reg"
   ]
  },
  {
   "cell_type": "code",
   "execution_count": 46,
   "metadata": {},
   "outputs": [
    {
     "data": {
      "text/plain": [
       "<Figure size 432x288 with 0 Axes>"
      ]
     },
     "metadata": {},
     "output_type": "display_data"
    },
    {
     "data": {
      "image/png": "[encoded data removed]",
      "text/plain": [
       "<Figure size 720x504 with 1 Axes>"
      ]
     },
     "metadata": {
      "needs_background": "light"
     },
     "output_type": "display_data"
    }
   ],
   "source": [
    "plt.figure()\n",
    "\n",
    "plt.figure(figsize=(10,7))\n",
    "plt.plot([0, 1], [0, 1], linestyle='--')\n",
    "plt.xlim([0.0, 1.0])\n",
    "plt.ylim([0.0, 1.0])\n",
    "plt.plot(fpr_log,tpr_log)\n",
    "plt.plot(fpr_tree,tpr_tree)\n",
    "plt.plot(fpr_forest,tpr_forest)\n",
    "plt.xlabel('False Positive Rate')\n",
    "plt.ylabel('True Positive Rate')\n",
    "plt.title('ROC-кривая')\n",
    "plt.legend(('Случайная модель','Случайный лес','Логистическая регрессия','Дерево решения'),\n",
    "           loc= 'upper left') \n",
    "plt.show()"
   ]
  },
  {
   "cell_type": "markdown",
   "metadata": {},
   "source": [
    "Значение площади под кривой. На сколько наша модель отличается от случайной"
   ]
  },
  {
   "cell_type": "markdown",
   "metadata": {},
   "source": [
    "Лучшее значение метрики auc roc=0.847 у модели Случайный лес"
   ]
  },
  {
   "cell_type": "markdown",
   "metadata": {},
   "source": [
    "## Общий вывод:"
   ]
  },
  {
   "cell_type": "code",
   "execution_count": 83,
   "metadata": {},
   "outputs": [],
   "source": [
    "\n",
    "rezult1={'Дерево Решения':np.array([0.586,0.582]),'Случайный лес':np.array([0.571,0.612]),'Логистическая регрессия':np.array([0.318,0.478])}\n",
    "rezult_df=pd.DataFrame(rezult1,index=['R2 без учета дисбаланса','R2 с учетом дисбаланса'])"
   ]
  },
  {
   "cell_type": "code",
   "execution_count": 84,
   "metadata": {},
   "outputs": [
    {
     "data": {
      "text/html": [
       "<div>\n",
       "<style scoped>\n",
       "    .dataframe tbody tr th:only-of-type {\n",
       "        vertical-align: middle;\n",
       "    }\n",
       "\n",
       "    .dataframe tbody tr th {\n",
       "        vertical-align: top;\n",
       "    }\n",
       "\n",
       "    .dataframe thead th {\n",
       "        text-align: right;\n",
       "    }\n",
       "</style>\n",
       "<table border=\"1\" class=\"dataframe\">\n",
       "  <thead>\n",
       "    <tr style=\"text-align: right;\">\n",
       "      <th></th>\n",
       "      <th>Дерево Решения</th>\n",
       "      <th>Случайный лес</th>\n",
       "      <th>Логистическая регрессия</th>\n",
       "    </tr>\n",
       "  </thead>\n",
       "  <tbody>\n",
       "    <tr>\n",
       "      <td>R2 без учета дисбаланса</td>\n",
       "      <td>0.586</td>\n",
       "      <td>0.571</td>\n",
       "      <td>0.318</td>\n",
       "    </tr>\n",
       "    <tr>\n",
       "      <td>R2 с учетом дисбаланса</td>\n",
       "      <td>0.582</td>\n",
       "      <td>0.612</td>\n",
       "      <td>0.478</td>\n",
       "    </tr>\n",
       "  </tbody>\n",
       "</table>\n",
       "</div>"
      ],
      "text/plain": [
       "                         Дерево Решения  Случайный лес  \\\n",
       "R2 без учета дисбаланса           0.586          0.571   \n",
       "R2 с учетом дисбаланса            0.582          0.612   \n",
       "\n",
       "                         Логистическая регрессия  \n",
       "R2 без учета дисбаланса                    0.318  \n",
       "R2 с учетом дисбаланса                     0.478  "
      ]
     },
     "execution_count": 84,
     "metadata": {},
     "output_type": "execute_result"
    }
   ],
   "source": [
    "rezult_df"
   ]
  },
  {
   "cell_type": "markdown",
   "metadata": {},
   "source": [
    "Рассматривая данные с учетом дисбаланса + переведенные категориальные + стандартизированные данные и без учета дисбаланса тремя моделями можно сделать вывод, что самая лучшая модель оказалась Случайный лес. При лучшем значении max_depth=9,n_estimators=50, мы имеем F1 меру =0,612 на тестовой(валидной) выборке. Хуже всего себя показала модель Логистическая регрессия"
   ]
  }
 ],
 "metadata": {
  "kernelspec": {
   "display_name": "Python 3",
   "language": "python",
   "name": "python3"
  },
  "language_info": {
   "codemirror_mode": {
    "name": "ipython",
    "version": 3
   },
   "file_extension": ".py",
   "mimetype": "text/x-python",
   "name": "python",
   "nbconvert_exporter": "python",
   "pygments_lexer": "ipython3",
   "version": "3.7.6"
  }
 },
 "nbformat": 4,
 "nbformat_minor": 2
}
